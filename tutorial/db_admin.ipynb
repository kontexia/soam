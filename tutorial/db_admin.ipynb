{
 "cells": [
  {
   "cell_type": "markdown",
   "metadata": {},
   "source": [
    "# Accessing ArangoDB"
   ]
  },
  {
   "cell_type": "code",
   "execution_count": null,
   "metadata": {},
   "outputs": [],
   "source": [
    "import os\n",
    "from dotenv import load_dotenv\n",
    "from src.database_manager_factory import DatabaseManagerFactory"
   ]
  },
  {
   "cell_type": "code",
   "execution_count": null,
   "metadata": {},
   "outputs": [],
   "source": [
    "load_dotenv()\n",
    "\n",
    "config = {'db_name': os.getenv(\"DB_NAME\"),\n",
    "          'db_username': os.getenv(\"DB_USERNAME\"),\n",
    "          'db_password': os.getenv(\"DB_PASSWORD\"),\n",
    "          'db_system': os.getenv(\"DB_SYSTEM\"),\n",
    "          'db_config_file_path': os.getenv(\"DB_CONFIG_PATH\"),\n",
    "          'db_queries_file_path': os.getenv(\"DB_QUERIES_PATH\")}\n",
    "\n",
    "config['db_system']"
   ]
  },
  {
   "cell_type": "code",
   "execution_count": null,
   "metadata": {},
   "outputs": [],
   "source": [
    "# create database client\n",
    "#\n",
    "db = DatabaseManagerFactory.get_database_manager(username=config['db_username'],\n",
    "                                                 database_system=config['db_system'],\n",
    "                                                 database_name=config['db_name'],\n",
    "                                                 config_file_path=config['db_config_file_path'],\n",
    "                                                 queries_file_path=config['db_queries_file_path'])"
   ]
  },
  {
   "cell_type": "markdown",
   "metadata": {},
   "source": [
    "### Getting collections"
   ]
  },
  {
   "cell_type": "code",
   "execution_count": null,
   "metadata": {},
   "outputs": [],
   "source": [
    "collections = db.get_collections()\n",
    "collections"
   ]
  },
  {
   "cell_type": "markdown",
   "metadata": {},
   "source": [
    "### Checking collection exists"
   ]
  },
  {
   "cell_type": "code",
   "execution_count": null,
   "metadata": {},
   "outputs": [],
   "source": [
    "db.has_collection('Client')"
   ]
  },
  {
   "cell_type": "markdown",
   "metadata": {},
   "source": [
    "### Creating collections"
   ]
  },
  {
   "cell_type": "code",
   "execution_count": null,
   "metadata": {},
   "outputs": [],
   "source": [
    "db.create_collection(collection_name='Client', parameters = {'is_edge_collection': False})\n",
    "\n",
    "db.create_collection(collection_name='Sector', parameters = {'is_edge_collection': False})"
   ]
  },
  {
   "cell_type": "markdown",
   "metadata": {},
   "source": [
    "### Inserting docs & nodes"
   ]
  },
  {
   "cell_type": "code",
   "execution_count": null,
   "metadata": {},
   "outputs": [],
   "source": [
    "docs_to_add = [{'_key': 'ABC_LTD', '_node_type': 'Client', '_node_uid': 'ABC_LTD'},\n",
    "               {'_key': 'DEF_LTD', '_node_type': 'Client', '_node_uid': 'DEF_LTD'},\n",
    "              ]\n",
    "\n",
    "db.insert_many_documents(collection_name='Client', documents=docs_to_add)\n",
    "\n",
    "docs_to_add = [{'_key': 'Construction', '_node_type': 'Sector', '_node_uid': 'Construction'}]\n",
    "db.insert_many_documents(collection_name='Sector', documents=docs_to_add)"
   ]
  },
  {
   "cell_type": "markdown",
   "metadata": {},
   "source": [
    "### Running pre-canned AQL"
   ]
  },
  {
   "cell_type": "code",
   "execution_count": null,
   "metadata": {},
   "outputs": [],
   "source": [
    "cursor = db.execute_query('get_docs_in_collection', parameters={'collection': {'value': 'Client','type': 'collection'}})\n",
    "\n",
    "for record in cursor:\n",
    "    print(record)"
   ]
  },
  {
   "cell_type": "markdown",
   "metadata": {},
   "source": [
    "### Inserting edges"
   ]
  },
  {
   "cell_type": "code",
   "execution_count": null,
   "metadata": {},
   "outputs": [],
   "source": [
    "db.create_collection(collection_name='has_sector', parameters = {'is_edge_collection': True})\n",
    "\n",
    "docs_to_add = [{'_key': 'Client:ABC_LTD::has_sector::Sector:Construction', \n",
    "                '_from': 'Client/ABC_LTD',\n",
    "                '_to':'Sector/Construction',\n",
    "                '_edge_type': 'has_sector', \n",
    "                '_edge_uid': None},\n",
    "               \n",
    "               {'_key': 'Client:DEF_LTD::has_sector::Sector:Construction', \n",
    "                '_from': 'Client/DEF_LTD',\n",
    "                '_to':'Sector/Construction',\n",
    "                '_edge_type': 'has_sector', \n",
    "                '_edge_uid': None},\n",
    "              ]\n",
    "\n",
    "db.insert_many_documents(collection_name='has_sector', documents=docs_to_add)\n"
   ]
  },
  {
   "cell_type": "markdown",
   "metadata": {},
   "source": [
    "### WARNING! Delete all collections"
   ]
  },
  {
   "cell_type": "code",
   "execution_count": null,
   "metadata": {},
   "outputs": [],
   "source": [
    "for col in db.get_collections():\n",
    "    db.delete_collection(col['name'])\n",
    "    "
   ]
  }
 ],
 "metadata": {
  "kernelspec": {
   "display_name": "Python 3",
   "language": "python",
   "name": "python3"
  },
  "language_info": {
   "codemirror_mode": {
    "name": "ipython",
    "version": 3
   },
   "file_extension": ".py",
   "mimetype": "text/x-python",
   "name": "python",
   "nbconvert_exporter": "python",
   "pygments_lexer": "ipython3",
   "version": "3.7.7"
  }
 },
 "nbformat": 4,
 "nbformat_minor": 4
}
