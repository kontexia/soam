{
 "cells": [
  {
   "cell_type": "code",
   "execution_count": 1,
   "metadata": {},
   "outputs": [],
   "source": [
    "import os\n",
    "from dotenv import load_dotenv\n",
    "from src.database_manager_factory import DatabaseManagerFactory"
   ]
  },
  {
   "cell_type": "code",
   "execution_count": 2,
   "metadata": {},
   "outputs": [],
   "source": [
    "load_dotenv()\n",
    "\n",
    "config = {'db_name': os.getenv(\"DB_NAME\"),\n",
    "              'db_username': os.getenv(\"DB_USERNAME\"),\n",
    "              'db_password': os.getenv(\"DB_PASSWORD\"),\n",
    "              'db_system': os.getenv(\"DB_SYSTEM\"),\n",
    "              'db_config_file_path': os.getenv(\"DB_CONFIG_PATH\"),\n",
    "              'db_queries_file_path': os.getenv(\"DB_QUERIES_PATH\"),\n",
    "              }\n",
    "\n",
    "db = DatabaseManagerFactory.get_database_manager(username=config['db_username'],\n",
    "                                                 database_system=config['db_system'],\n",
    "                                                 database_name=config['db_name'],\n",
    "                                                 config_file_path=config['db_config_file_path'],\n",
    "                                                 queries_file_path=config['db_queries_file_path'])"
   ]
  },
  {
   "cell_type": "code",
   "execution_count": 3,
   "metadata": {},
   "outputs": [
    {
     "data": {
      "text/plain": [
       "[{'id': '3633205',\n",
       "  'name': 'generalise',\n",
       "  'system': False,\n",
       "  'type': 'edge',\n",
       "  'status': 'loaded'},\n",
       " {'id': '3633196',\n",
       "  'name': 'has_label',\n",
       "  'system': False,\n",
       "  'type': 'edge',\n",
       "  'status': 'loaded'},\n",
       " {'id': '3633187',\n",
       "  'name': 'has_rgb',\n",
       "  'system': False,\n",
       "  'type': 'edge',\n",
       "  'status': 'loaded'},\n",
       " {'id': '3633178',\n",
       "  'name': 'has_generalised',\n",
       "  'system': False,\n",
       "  'type': 'edge',\n",
       "  'status': 'loaded'},\n",
       " {'id': '3633169',\n",
       "  'name': 'has_neuro_column',\n",
       "  'system': False,\n",
       "  'type': 'edge',\n",
       "  'status': 'loaded'},\n",
       " {'id': '3633160',\n",
       "  'name': 'has_non_hebbian_edge_types',\n",
       "  'system': False,\n",
       "  'type': 'edge',\n",
       "  'status': 'loaded'},\n",
       " {'id': '3633151',\n",
       "  'name': 'has_short_term_memory',\n",
       "  'system': False,\n",
       "  'type': 'edge',\n",
       "  'status': 'loaded'},\n",
       " {'id': '3633144',\n",
       "  'name': 'amfabrics_named_query',\n",
       "  'system': False,\n",
       "  'type': 'document',\n",
       "  'status': 'loaded'},\n",
       " {'id': '3633135',\n",
       "  'name': 'has_stats',\n",
       "  'system': False,\n",
       "  'type': 'edge',\n",
       "  'status': 'loaded'},\n",
       " {'id': '3633128',\n",
       "  'name': 'colour',\n",
       "  'system': False,\n",
       "  'type': 'document',\n",
       "  'status': 'loaded'},\n",
       " {'id': '3633121',\n",
       "  'name': 'rgb',\n",
       "  'system': False,\n",
       "  'type': 'document',\n",
       "  'status': 'loaded'},\n",
       " {'id': '3633114',\n",
       "  'name': 'colour_interest',\n",
       "  'system': False,\n",
       "  'type': 'document',\n",
       "  'status': 'loaded'},\n",
       " {'id': '3633107',\n",
       "  'name': 'NeuroColumn',\n",
       "  'system': False,\n",
       "  'type': 'document',\n",
       "  'status': 'loaded'},\n",
       " {'id': '3633100',\n",
       "  'name': 'AMFabric',\n",
       "  'system': False,\n",
       "  'type': 'document',\n",
       "  'status': 'loaded'}]"
      ]
     },
     "execution_count": 3,
     "metadata": {},
     "output_type": "execute_result"
    }
   ],
   "source": [
    "collections = db.get_collections()\n",
    "collections"
   ]
  },
  {
   "cell_type": "code",
   "execution_count": 4,
   "metadata": {},
   "outputs": [
    {
     "name": "stdout",
     "output_type": "stream",
     "text": [
      "ArangoDBDatabaseManager.delete_create_collection: generalise\n",
      "ArangoDBDatabaseManager.delete_create_collection: has_label\n",
      "ArangoDBDatabaseManager.delete_create_collection: has_rgb\n",
      "ArangoDBDatabaseManager.delete_create_collection: has_generalised\n",
      "ArangoDBDatabaseManager.delete_create_collection: has_neuro_column\n",
      "ArangoDBDatabaseManager.delete_create_collection: has_non_hebbian_edge_types\n",
      "ArangoDBDatabaseManager.delete_create_collection: has_short_term_memory\n",
      "ArangoDBDatabaseManager.delete_create_collection: amfabrics_named_query\n",
      "ArangoDBDatabaseManager.delete_create_collection: has_stats\n",
      "ArangoDBDatabaseManager.delete_create_collection: colour\n",
      "ArangoDBDatabaseManager.delete_create_collection: rgb\n",
      "ArangoDBDatabaseManager.delete_create_collection: colour_interest\n",
      "ArangoDBDatabaseManager.delete_create_collection: NeuroColumn\n",
      "ArangoDBDatabaseManager.delete_create_collection: AMFabric\n"
     ]
    }
   ],
   "source": [
    "for col in collections:\n",
    "    db.delete_collection(col['name'])"
   ]
  }
 ],
 "metadata": {
  "kernelspec": {
   "display_name": "Python 3",
   "language": "python",
   "name": "python3"
  },
  "language_info": {
   "codemirror_mode": {
    "name": "ipython",
    "version": 3
   },
   "file_extension": ".py",
   "mimetype": "text/x-python",
   "name": "python",
   "nbconvert_exporter": "python",
   "pygments_lexer": "ipython3",
   "version": "3.7.7"
  }
 },
 "nbformat": 4,
 "nbformat_minor": 4
}
