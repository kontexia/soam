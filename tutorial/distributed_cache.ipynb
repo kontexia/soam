{
 "cells": [
  {
   "cell_type": "markdown",
   "metadata": {},
   "source": [
    "# Demo of Distributed Cache"
   ]
  },
  {
   "cell_type": "code",
   "execution_count": null,
   "metadata": {},
   "outputs": [],
   "source": [
    "from src.distributed_cache import DistributedCache, Sub\n",
    "from src.amgraph import AMFGraph"
   ]
  },
  {
   "cell_type": "markdown",
   "metadata": {},
   "source": [
    "### Connect to exsiting cache with the Dask Cluster"
   ]
  },
  {
   "cell_type": "code",
   "execution_count": null,
   "metadata": {},
   "outputs": [],
   "source": [
    "config = {'db_name': 'AMF',\n",
    "          'db_username': 'stephen',\n",
    "          'db_password': 'kontexia.io',\n",
    "          'db_system': 'arango_db',\n",
    "          'db_config_file_path': '~/kontexia/dev/soam/src/databases_configuration.json',\n",
    "          'db_queries_file_path':'~/kontexia/dev/soam/src/database_queries.json',\n",
    "          'scheduler_address': 'localhost:8786'}\n",
    "\n",
    "dc = DistributedCache(config=config)"
   ]
  },
  {
   "cell_type": "markdown",
   "metadata": {},
   "source": [
    "### Get out the 'sequence_1' graph "
   ]
  },
  {
   "cell_type": "code",
   "execution_count": null,
   "metadata": {},
   "outputs": [],
   "source": [
    "future = dc.get_kv(store_name='interest_graphs', key='sequence_1')\n",
    "sequence_1_graph = future.result()\n",
    "\n",
    "# plot record 2\n",
    "#\n",
    "sequence_1_graph.plot(dimension=3, node_filter_func=lambda x: x[0] == 'colour_interest' and x[1]=='2')"
   ]
  },
  {
   "cell_type": "markdown",
   "metadata": {},
   "source": [
    "### Distributed cache allows you to subscribe to updates\n"
   ]
  },
  {
   "cell_type": "code",
   "execution_count": null,
   "metadata": {},
   "outputs": [],
   "source": [
    "while True:\n",
    "    msg = dc.subscribe(store_name='interest_graphs')\n",
    "    \n",
    "    # print out messaged received\n",
    "    #\n",
    "    print('message received', msg)\n",
    "    \n",
    "    future = dc.get_kv(store_name='interest_graphs', key=msg['key'])\n",
    "    sequence_graph = future.result()\n",
    "    \n",
    "    print('graph', msg['key'], 'has', len(sequence_graph), 'nodes')"
   ]
  }
 ],
 "metadata": {
  "kernelspec": {
   "display_name": "Python 3",
   "language": "python",
   "name": "python3"
  },
  "language_info": {
   "codemirror_mode": {
    "name": "ipython",
    "version": 3
   },
   "file_extension": ".py",
   "mimetype": "text/x-python",
   "name": "python",
   "nbconvert_exporter": "python",
   "pygments_lexer": "ipython3",
   "version": "3.7.7"
  }
 },
 "nbformat": 4,
 "nbformat_minor": 4
}
