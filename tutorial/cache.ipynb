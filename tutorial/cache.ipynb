{
 "cells": [
  {
   "cell_type": "markdown",
   "metadata": {},
   "source": [
    "# Demo of In-Memory & Distributed Caches"
   ]
  },
  {
   "cell_type": "code",
   "execution_count": null,
   "metadata": {},
   "outputs": [],
   "source": [
    "import os\n",
    "from dotenv import load_dotenv\n",
    "from src.kv_cache import KVGraphCache\n",
    "\n",
    "load_dotenv()\n",
    "\n",
    "config = {'db_name': os.getenv(\"DB_NAME\"),\n",
    "          'db_username': os.getenv(\"DB_USERNAME\"),\n",
    "          'db_password': os.getenv(\"DB_PASSWORD\"),\n",
    "          'db_system': os.getenv(\"DB_SYSTEM\"),\n",
    "          'db_config_file_path': os.getenv(\"DB_CONFIG_PATH\"),\n",
    "          'db_queries_file_path': os.getenv(\"DB_QUERIES_PATH\"),\n",
    "          }\n",
    "\n",
    "in_memory_cache = KVGraphCache(config=config)"
   ]
  },
  {
   "cell_type": "markdown",
   "metadata": {},
   "source": [
    "### Store Json Compatible data"
   ]
  },
  {
   "cell_type": "code",
   "execution_count": null,
   "metadata": {},
   "outputs": [],
   "source": [
    "# store any json compatible structure\n",
    "#\n",
    "in_memory_cache.set_kv(store_name='my_data', key='rec_1', value={'list_data': [1,2,3], 'dict_data':{'a': 1, 'b': {'c': 2}}})\n",
    "\n",
    "in_memory_cache.set_kv(store_name='my_data', key='rec_2', value={'dict_data':{'a': 1, 'b': {'c': 2}}})"
   ]
  },
  {
   "cell_type": "code",
   "execution_count": null,
   "metadata": {},
   "outputs": [],
   "source": [
    "# retrieve form the cache\n",
    "#\n",
    "record = in_memory_cache.get_kv(store_name='my_data', key='rec_1')\n",
    "print(record)"
   ]
  },
  {
   "cell_type": "markdown",
   "metadata": {},
   "source": [
    "### Persist to ArangoDB"
   ]
  },
  {
   "cell_type": "code",
   "execution_count": null,
   "metadata": {},
   "outputs": [],
   "source": [
    "# persist the data to ArangoDB\n",
    "#\n",
    "in_memory_cache.persist()"
   ]
  },
  {
   "cell_type": "markdown",
   "metadata": {},
   "source": [
    "### Delete from cache"
   ]
  },
  {
   "cell_type": "code",
   "execution_count": null,
   "metadata": {},
   "outputs": [],
   "source": [
    "in_memory_cache.del_kv(store_name='my_data')"
   ]
  },
  {
   "cell_type": "code",
   "execution_count": null,
   "metadata": {},
   "outputs": [],
   "source": [
    "# persist the data to ArangoDB\n",
    "#\n",
    "in_memory_cache.persist()"
   ]
  },
  {
   "cell_type": "markdown",
   "metadata": {},
   "source": [
    "### Store Graphs"
   ]
  },
  {
   "cell_type": "code",
   "execution_count": null,
   "metadata": {},
   "outputs": [],
   "source": [
    "# Store AMFGraphs\n",
    "#\n",
    "from src.amgraph import AMFGraph\n",
    "g = AMFGraph()\n",
    "\n",
    "g.set_edge(source=('Trade', 'XYZ_123'), target=('client','abc ltd'), edge=('has', 'client'), prob=1.0)\n",
    "\n",
    "print(g)\n",
    "\n",
    "in_memory_cache.set_kv(store_name='my_data', key='rec_3', value=g)"
   ]
  },
  {
   "cell_type": "code",
   "execution_count": null,
   "metadata": {},
   "outputs": [],
   "source": [
    "print(in_memory_cache.get_kv(store_name='my_data', key='rec_3'))"
   ]
  },
  {
   "cell_type": "markdown",
   "metadata": {},
   "source": [
    "### Persist Graphs"
   ]
  },
  {
   "cell_type": "code",
   "execution_count": null,
   "metadata": {},
   "outputs": [],
   "source": [
    "in_memory_cache.persist()\n"
   ]
  },
  {
   "cell_type": "markdown",
   "metadata": {},
   "source": [
    "### Restore cache from ArangoDB"
   ]
  },
  {
   "cell_type": "code",
   "execution_count": null,
   "metadata": {},
   "outputs": [],
   "source": [
    "in_memory_cache_2 = KVGraphCache(config=config)\n",
    "\n",
    "in_memory_cache_2.restore(store_name='my_data', key='rec_3')"
   ]
  },
  {
   "cell_type": "code",
   "execution_count": null,
   "metadata": {},
   "outputs": [],
   "source": [
    "restored_graph = in_memory_cache_2.get_kv(store_name='my_data', key='rec_3')\n",
    "print(restored_graph)\n"
   ]
  },
  {
   "cell_type": "code",
   "execution_count": null,
   "metadata": {},
   "outputs": [],
   "source": [
    "restored_graph.update_edge(source=('Trade', 'XYZ_123'), target=('client','abc ltd'), edge=('has', 'client'), prob=0.5)\n",
    "\n",
    "print(restored_graph)"
   ]
  },
  {
   "cell_type": "code",
   "execution_count": null,
   "metadata": {},
   "outputs": [],
   "source": [
    "in_memory_cache_2.set_kv(store_name='my_data', key='rec_3', value=restored_graph)"
   ]
  },
  {
   "cell_type": "code",
   "execution_count": null,
   "metadata": {},
   "outputs": [],
   "source": [
    "in_memory_cache_2.persist()\n"
   ]
  },
  {
   "cell_type": "markdown",
   "metadata": {},
   "source": [
    "### Distribute a Cache Using Dask"
   ]
  },
  {
   "cell_type": "code",
   "execution_count": null,
   "metadata": {},
   "outputs": [],
   "source": [
    "from src.distributed_cache import DistributedCache\n",
    "\n",
    "config['scheduler_address']= 'tcp://192.168.1.67:8786'\n",
    "\n",
    "dc = DistributedCache(config=config)"
   ]
  },
  {
   "cell_type": "code",
   "execution_count": null,
   "metadata": {},
   "outputs": [],
   "source": [
    "dc.create_distributed_store(store_name='my_data', key='rec_3', restore=True)"
   ]
  },
  {
   "cell_type": "markdown",
   "metadata": {},
   "source": [
    "### Get out the persisted graph "
   ]
  },
  {
   "cell_type": "code",
   "execution_count": null,
   "metadata": {},
   "outputs": [],
   "source": [
    "future = dc.get_kv(store_name='my_data', key='rec_3')\n",
    "\n",
    "future"
   ]
  },
  {
   "cell_type": "code",
   "execution_count": null,
   "metadata": {},
   "outputs": [],
   "source": [
    "remote_graph = future.result()\n",
    "print(remote_graph)"
   ]
  },
  {
   "cell_type": "code",
   "execution_count": null,
   "metadata": {},
   "outputs": [],
   "source": [
    "remote_graph.update_edge(source=('Trade', 'XYZ_123'), target=('client','abc ltd'), edge=('has', 'client'), prob=0.75)\n",
    "\n",
    "print(remote_graph)"
   ]
  },
  {
   "cell_type": "code",
   "execution_count": null,
   "metadata": {},
   "outputs": [],
   "source": [
    "future = dc.set_kv(store_name='my_data', key='rec_3', value=remote_graph)\n",
    "future"
   ]
  },
  {
   "cell_type": "code",
   "execution_count": null,
   "metadata": {},
   "outputs": [],
   "source": [
    "future.result()"
   ]
  }
 ],
 "metadata": {
  "kernelspec": {
   "display_name": "Python 3",
   "language": "python",
   "name": "python3"
  },
  "language_info": {
   "codemirror_mode": {
    "name": "ipython",
    "version": 3
   },
   "file_extension": ".py",
   "mimetype": "text/x-python",
   "name": "python",
   "nbconvert_exporter": "python",
   "pygments_lexer": "ipython3",
   "version": "3.7.7"
  }
 },
 "nbformat": 4,
 "nbformat_minor": 4
}
