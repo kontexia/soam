{
 "cells": [
  {
   "cell_type": "markdown",
   "metadata": {},
   "source": [
    "# Creating Network Graphs From Data"
   ]
  },
  {
   "cell_type": "code",
   "execution_count": null,
   "metadata": {},
   "outputs": [],
   "source": [
    "# import AMFGraph \n",
    "#\n",
    "from src.amgraph import AMFGraph\n",
    "\n",
    "# create a graph\n",
    "#\n",
    "g = AMFGraph()\n"
   ]
  },
  {
   "cell_type": "code",
   "execution_count": null,
   "metadata": {},
   "outputs": [],
   "source": [
    "# identify the node with a tuple with format (< node_type >, < node_uid >)\n",
    "#\n",
    "node_id = ('Trade', 'XYZ_123')\n",
    "\n",
    "# define static properties of the node as a simple dictionary\n",
    "#\n",
    "node_properties = {'other_id': 123} \n",
    "\n",
    "\n",
    "# define any 'attributes' of Trade with a dictionary:\n",
    "#\n",
    "#\n",
    "node_attr = {(('has', 'client'), ('client','abc ltd')): {'prob': 1.0},        # probability of edge is 1.0      \n",
    "             \n",
    "             # here we set a probability of edge to 1.0, we also associate numeric value 800mio, minimum value of 0, max value of 1 bio to the edge\n",
    "             #\n",
    "             (('has', 'nominal'), ('nominal', 'trade_nominal')): {'prob': 1.0, 'numeric': 800000000, 'numeric_min': 0, 'numeric_max': 1000000000}\n",
    "             }\n",
    "\n",
    "# one can specify extra properties for every edge created\n",
    "#\n",
    "edge_properties = {'other_id': 123}\n",
    "\n",
    "# add the node\n",
    "#\n",
    "g.set_node(node=node_id, node_attr=node_attr, node_prop=node_properties, edge_prop=edge_properties, timestamp=None)\n",
    "\n",
    "# you can print the graph\n",
    "#\n",
    "print(g)"
   ]
  },
  {
   "cell_type": "code",
   "execution_count": null,
   "metadata": {},
   "outputs": [],
   "source": [
    "# and you can plot the resulting graph\n",
    "#\n",
    "g.plot(dimension=3)"
   ]
  },
  {
   "cell_type": "markdown",
   "metadata": {},
   "source": [
    "### Method: update_node\n",
    "\n",
    "syntactic sugar for modifying a nodes attributes\n",
    "\n",
    "* modifications are stored by expiring exising relationships / edges and adding new active ones with the new data "
   ]
  },
  {
   "cell_type": "code",
   "execution_count": null,
   "metadata": {},
   "outputs": [],
   "source": [
    "# define a dictionary of the attributes to be inserted/ updated\n",
    "#\n",
    "upsert_attr = {(('has', 'nominal'), ('nominal','trade_nominal')): {'numeric': 5000000}}\n",
    "\n",
    "# define a set of 'attribute relationships\" to be expired\n",
    "#\n",
    "expire_attr = {(('has', 'client'), ('client','abc ltd'))}\n",
    "\n",
    "g.update_node(node=node_id, upsert_attr=upsert_attr, expire_attr=expire_attr, edge_prop=edge_properties, timestamp=None)\n",
    "\n",
    "print(g)"
   ]
  },
  {
   "cell_type": "markdown",
   "metadata": {},
   "source": [
    "### Method: set_edge\n",
    "\n",
    "Creates an edge between two nodes\n"
   ]
  },
  {
   "cell_type": "code",
   "execution_count": null,
   "metadata": {},
   "outputs": [],
   "source": [
    "g = AMFGraph()\n",
    "\n",
    "g.set_edge(source=('Trade', 'XYZ_123'), target=('client','abc ltd'), edge=('has', 'client'), prob=1.0)\n",
    "\n",
    "print(g)"
   ]
  },
  {
   "cell_type": "markdown",
   "metadata": {},
   "source": [
    "### Method: update_edge\n",
    "\n",
    "updates an edge first be 'expiring' existing one then add new one with updated data\n"
   ]
  },
  {
   "cell_type": "code",
   "execution_count": null,
   "metadata": {},
   "outputs": [],
   "source": [
    "# set_edge overwrites any existing edge\n",
    "#\n",
    "g.update_edge(source=('Trade', 'XYZ_123'), target=('client','abc ltd'), edge=('has', 'client'), prob=0.5)\n",
    "\n",
    "print(g)"
   ]
  },
  {
   "cell_type": "markdown",
   "metadata": {},
   "source": [
    "## Querying Graphs"
   ]
  },
  {
   "cell_type": "code",
   "execution_count": null,
   "metadata": {},
   "outputs": [],
   "source": [
    "# we can query a graph by providing a query dictionary that have the following key words:\n",
    "# $source      - query the source node\n",
    "# $target      - query the target node\n",
    "# $edge        - query the edge\n",
    "# $uid         - uid of node or edge\n",
    "# $type        - type of node\n",
    "# $created_ts  - the create time of the edge or node\n",
    "# $expired_ts  - the expired time of the edge - note Nodes DO NOT have expired time\n",
    "# $weight      - the weight of the edge - note Nodes DO NOT have a weight\n",
    "# $weight_type - the weight type of the edge\n",
    "# operators: $and, $or, $eq (equal), $ne (not equal), $gt (greater than), $gte (greater than or equal), $lt (less than), $lte (less than or equal), $in_value (is in value), $value_in (is value in list)\n",
    "#\n",
    "\n",
    "# example: return graph with edges with expired timestamp equal to None\n",
    "#\n",
    "sg_1 = g.filter_sub_graph(query={'$edge': {'$expired_ts': {'$eq': None}}})\n",
    "print(sg_1)\n"
   ]
  },
  {
   "cell_type": "code",
   "execution_count": null,
   "metadata": {},
   "outputs": [],
   "source": [
    "# example: return graph with edges with expired timestamp NOT equal to None\n",
    "#\n",
    "sg_2 = g.filter_sub_graph(query={'$edge': {'$expired_ts': {'$ne': None}}})\n",
    "print(sg_2)\n"
   ]
  },
  {
   "cell_type": "code",
   "execution_count": null,
   "metadata": {},
   "outputs": [],
   "source": [
    "# example: return graph with edges with expired timestamp NOT equal to None AND probability less than 1.0\n",
    "#\n",
    "sg_3 = g.filter_sub_graph(query={'$edge':{'$and': [{'$expired_ts': {'$eq': None}}, \n",
    "                                                   {'$probability': {'$lt': 1.0}}]\n",
    "                                         }\n",
    "                                })\n",
    "print(sg_3)"
   ]
  }
 ],
 "metadata": {
  "kernelspec": {
   "display_name": "Python 3",
   "language": "python",
   "name": "python3"
  },
  "language_info": {
   "codemirror_mode": {
    "name": "ipython",
    "version": 3
   },
   "file_extension": ".py",
   "mimetype": "text/x-python",
   "name": "python",
   "nbconvert_exporter": "python",
   "pygments_lexer": "ipython3",
   "version": "3.7.7"
  }
 },
 "nbformat": 4,
 "nbformat_minor": 4
}
