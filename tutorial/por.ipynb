{
 "cells": [
  {
   "cell_type": "markdown",
   "metadata": {},
   "source": [
    "# Demo Path of Reasoning"
   ]
  },
  {
   "cell_type": "code",
   "execution_count": null,
   "metadata": {},
   "outputs": [],
   "source": [
    "import os\n",
    "from dotenv import load_dotenv"
   ]
  },
  {
   "cell_type": "code",
   "execution_count": null,
   "metadata": {},
   "outputs": [],
   "source": [
    "load_dotenv()\n",
    "config = {'db_name': os.getenv(\"DB_NAME\"),\n",
    "              'db_username': os.getenv(\"DB_USERNAME\"),\n",
    "              'db_password': os.getenv(\"DB_PASSWORD\"),\n",
    "              'db_system': os.getenv(\"DB_SYSTEM\"),\n",
    "              'db_config_file_path': os.getenv(\"DB_CONFIG_PATH\"),\n",
    "              'db_queries_file_path': os.getenv(\"DB_QUERIES_PATH\"),\n",
    "              'scheduler_address': 'tcp://192.168.1.67:8786'}\n"
   ]
  },
  {
   "cell_type": "markdown",
   "metadata": {},
   "source": [
    "### Instantiate a PubSub object to subscribe"
   ]
  },
  {
   "cell_type": "code",
   "execution_count": null,
   "metadata": {},
   "outputs": [],
   "source": [
    "from src.pubsub import PubSub\n",
    "\n",
    "subscriber = PubSub(uid='por_processor', config=config)"
   ]
  },
  {
   "cell_type": "markdown",
   "metadata": {},
   "source": [
    "### Register a callback function to process the incoming messages"
   ]
  },
  {
   "cell_type": "code",
   "execution_count": null,
   "metadata": {},
   "outputs": [],
   "source": [
    "def process_msg(msg):\n",
    "    print('processed msg', msg)\n",
    "    \n",
    "    \n",
    "subscriber.subscribe(topic='trade_classification', callback=process_msg)"
   ]
  },
  {
   "cell_type": "markdown",
   "metadata": {},
   "source": [
    "### Listen for incoming messages"
   ]
  },
  {
   "cell_type": "code",
   "execution_count": null,
   "metadata": {},
   "outputs": [],
   "source": [
    "subscriber.listen(timeout=None)"
   ]
  }
 ],
 "metadata": {
  "kernelspec": {
   "display_name": "Python 3",
   "language": "python",
   "name": "python3"
  },
  "language_info": {
   "codemirror_mode": {
    "name": "ipython",
    "version": 3
   },
   "file_extension": ".py",
   "mimetype": "text/x-python",
   "name": "python",
   "nbconvert_exporter": "python",
   "pygments_lexer": "ipython3",
   "version": "3.7.7"
  }
 },
 "nbformat": 4,
 "nbformat_minor": 4
}
