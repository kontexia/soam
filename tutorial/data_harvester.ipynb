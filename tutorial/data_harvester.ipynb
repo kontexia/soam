{
 "cells": [
  {
   "cell_type": "markdown",
   "metadata": {},
   "source": [
    "# Demo Data Harvester"
   ]
  },
  {
   "cell_type": "code",
   "execution_count": null,
   "metadata": {},
   "outputs": [],
   "source": [
    "import json\n",
    "from src.amgraph import AMFGraph"
   ]
  },
  {
   "cell_type": "markdown",
   "metadata": {},
   "source": [
    "### Read in Colour Interest Data"
   ]
  },
  {
   "cell_type": "code",
   "execution_count": null,
   "metadata": {},
   "outputs": [],
   "source": [
    "file_name= '../data/example_colours.json'\n",
    "with open(file_name, 'r') as fp:\n",
    "    raw_data = json.load(fp)\n",
    "\n",
    "print('raw data record:', raw_data[:1])\n",
    "print('nos records', len(raw_data))"
   ]
  },
  {
   "cell_type": "markdown",
   "metadata": {},
   "source": [
    "### First sequence change occures on record 30"
   ]
  },
  {
   "cell_type": "code",
   "execution_count": null,
   "metadata": {},
   "outputs": [],
   "source": [
    "for record_id in range(27,35):\n",
    "    print(record_id, raw_data[record_id])"
   ]
  },
  {
   "cell_type": "markdown",
   "metadata": {},
   "source": [
    "### Second sequence change occures at record 110"
   ]
  },
  {
   "cell_type": "code",
   "execution_count": null,
   "metadata": {},
   "outputs": [],
   "source": [
    "for record_id in range(100,119):\n",
    "    print(record_id, raw_data[record_id])"
   ]
  },
  {
   "cell_type": "markdown",
   "metadata": {},
   "source": [
    "### Create a graph for first sequence "
   ]
  },
  {
   "cell_type": "code",
   "execution_count": null,
   "metadata": {},
   "outputs": [],
   "source": [
    "sequence_1_graph = AMFGraph()\n",
    "for idx in range(30):\n",
    "    \n",
    "    record = raw_data[idx]\n",
    "    \n",
    "    # each record represents an interest in colour so create a 'colour_interest' node\n",
    "    # \n",
    "    node_id = ('colour_interest', str(record['record_id']))\n",
    "    \n",
    "    # each colour_interest node has four attribute nodes\n",
    "    #\n",
    "    node_attr = {('has_rgb', ('rgb', 'r')): {'prob': 1.0, 'numeric': record['r'], 'numeric_min': 0, 'numeric_max': 255.0},\n",
    "                 ('has_rgb', ('rgb', 'g')): {'prob': 1.0, 'numeric': record['g'], 'numeric_min': 0, 'numeric_max': 255.0},\n",
    "                 ('has_rgb', ('rgb', 'b')): {'prob': 1.0, 'numeric': record['b'], 'numeric_min': 0, 'numeric_max': 255.0},\n",
    "                 ('has_label', ('colour', record['COLOUR'])): {'prob': 1.0},\n",
    "                }\n",
    "    sequence_1_graph.set_node(node=node_id, node_attr=node_attr)\n",
    "\n",
    "# plot the 2 record\n",
    "#\n",
    "sequence_1_graph.plot(dimension=3, node_filter_func=lambda x: x[0] == 'colour_interest' and x[1]=='2')"
   ]
  },
  {
   "cell_type": "markdown",
   "metadata": {},
   "source": [
    "### Now save this graph into an in-memory cache that will also persist to ArangoDB\n",
    "\n",
    "First we must start the Dask Cluster and ensure Arangodb is running..."
   ]
  },
  {
   "cell_type": "code",
   "execution_count": null,
   "metadata": {},
   "outputs": [],
   "source": [
    "from src.distributed_cache import DistributedCache\n",
    "\n",
    "# cache setup needs db credentials and Dask Cluster credential\n",
    "#\n",
    "config = {'db_name': 'AMF',\n",
    "          'db_username': 'stephen',\n",
    "          'db_password': 'kontexia.io',\n",
    "          'db_system': 'arango_db',\n",
    "          'db_config_file_path': '~/kontexia/dev/soam/src/databases_configuration.json',\n",
    "          'db_queries_file_path':'~/kontexia/dev/soam/src/database_queries.json',\n",
    "          'scheduler_address': 'localhost:8786'}\n",
    "\n",
    "dc = DistributedCache(config=config)"
   ]
  },
  {
   "cell_type": "markdown",
   "metadata": {},
   "source": [
    "### Save this graph into a store called 'interest_graphs' with a key called 'sequence_1'"
   ]
  },
  {
   "cell_type": "code",
   "execution_count": null,
   "metadata": {},
   "outputs": [],
   "source": [
    "future = dc.set_kv(store_name='interest_graphs', key='sequence_1', value=sequence_1_graph)"
   ]
  },
  {
   "cell_type": "markdown",
   "metadata": {},
   "source": [
    "### We can now check that is it stored in our ArangoDB \n",
    "\n",
    "\n",
    "\n",
    "\n",
    "...\n",
    "\n",
    "\n",
    "\n",
    "\n",
    "### And then we can start a new process to read the graph from the distributed cache\n",
    "\n",
    "\n",
    "...\n",
    "\n",
    "\n",
    "\n",
    "### Let's read in the next sequence"
   ]
  },
  {
   "cell_type": "code",
   "execution_count": null,
   "metadata": {},
   "outputs": [],
   "source": [
    "sequence_2_graph = AMFGraph()\n",
    "for idx in range(30, 110):\n",
    "    \n",
    "    record = raw_data[idx]\n",
    "    \n",
    "    # each record represents an interest in colour so create a 'colour_interest' node\n",
    "    # \n",
    "    node_id = ('colour_interest', str(record['record_id']))\n",
    "    \n",
    "    # each colour_interest node has four attribute nodes\n",
    "    #\n",
    "    node_attr = {('has_rgb', ('rgb', 'r')): {'prob': 1.0, 'numeric': record['r'], 'numeric_min': 0, 'numeric_max': 1.0},\n",
    "                 ('has_rgb', ('rgb', 'g')): {'prob': 1.0, 'numeric': record['g'], 'numeric_min': 0, 'numeric_max': 1.0},\n",
    "                 ('has_rgb', ('rgb', 'b')): {'prob': 1.0, 'numeric': record['b'], 'numeric_min': 0, 'numeric_max': 1.0},\n",
    "                 ('has_label', ('colour', record['COLOUR'])): {'prob': 1.0},\n",
    "                }\n",
    "    sequence_2_graph.set_node(node=node_id, node_attr=node_attr)\n",
    "\n",
    "# plot record 30\n",
    "#\n",
    "sequence_2_graph.plot(dimension=3, node_filter_func=lambda x: x[0] == 'colour_interest' and x[1]=='30')"
   ]
  },
  {
   "cell_type": "markdown",
   "metadata": {},
   "source": [
    "### And store in the cache with a new key 'sequence_2'"
   ]
  },
  {
   "cell_type": "code",
   "execution_count": null,
   "metadata": {},
   "outputs": [],
   "source": [
    "future = dc.set_kv(store_name='interest_graphs', key='sequence_2', value=sequence_2_graph)"
   ]
  },
  {
   "cell_type": "code",
   "execution_count": null,
   "metadata": {},
   "outputs": [],
   "source": [
    "sequence_3_graph = AMFGraph()\n",
    "for idx in range(110, len(raw_data)):\n",
    "    \n",
    "    record = raw_data[idx]\n",
    "    \n",
    "    # each record represents an interest in colour so create a 'colour_interest' node\n",
    "    # \n",
    "    node_id = ('colour_interest', str(record['record_id']))\n",
    "    \n",
    "    # each colour_interest node has four attribute nodes\n",
    "    #\n",
    "    node_attr = {('has_rgb', ('rgb', 'r')): {'prob': 1.0, 'numeric': record['r'], 'numeric_min': 0, 'numeric_max': 1.0},\n",
    "                 ('has_rgb', ('rgb', 'g')): {'prob': 1.0, 'numeric': record['g'], 'numeric_min': 0, 'numeric_max': 1.0},\n",
    "                 ('has_rgb', ('rgb', 'b')): {'prob': 1.0, 'numeric': record['b'], 'numeric_min': 0, 'numeric_max': 1.0},\n",
    "                 ('has_label', ('colour', record['COLOUR'])): {'prob': 1.0},\n",
    "                }\n",
    "    sequence_3_graph.set_node(node=node_id, node_attr=node_attr)\n",
    "\n",
    "# plot record 110\n",
    "#\n",
    "sequence_3_graph.plot(dimension=3, node_filter_func=lambda x: x[0] == 'colour_interest' and x[1]=='110')"
   ]
  },
  {
   "cell_type": "markdown",
   "metadata": {},
   "source": [
    "### And store in cache"
   ]
  },
  {
   "cell_type": "code",
   "execution_count": null,
   "metadata": {},
   "outputs": [],
   "source": [
    "future = dc.set_kv(store_name='interest_graphs', key='sequence_3', value=sequence_3_graph)"
   ]
  }
 ],
 "metadata": {
  "kernelspec": {
   "display_name": "Python 3",
   "language": "python",
   "name": "python3"
  },
  "language_info": {
   "codemirror_mode": {
    "name": "ipython",
    "version": 3
   },
   "file_extension": ".py",
   "mimetype": "text/x-python",
   "name": "python",
   "nbconvert_exporter": "python",
   "pygments_lexer": "ipython3",
   "version": "3.7.7"
  }
 },
 "nbformat": 4,
 "nbformat_minor": 4
}
