{
 "cells": [
  {
   "cell_type": "markdown",
   "metadata": {},
   "source": [
    "# Data Harvester"
   ]
  },
  {
   "cell_type": "code",
   "execution_count": null,
   "metadata": {},
   "outputs": [],
   "source": [
    "# all our files are in JSON\n",
    "#\n",
    "import json"
   ]
  },
  {
   "cell_type": "markdown",
   "metadata": {},
   "source": [
    "### Read in client referential"
   ]
  },
  {
   "cell_type": "code",
   "execution_count": null,
   "metadata": {},
   "outputs": [],
   "source": [
    "file_name= '../data/example_clients.json'\n",
    "with open(file_name, 'r') as fp:\n",
    "    records = json.load(fp)\n",
    "\n",
    "print('example record:', records[:1])\n",
    "print('nos records', len(records))"
   ]
  },
  {
   "cell_type": "markdown",
   "metadata": {},
   "source": [
    "### Create graph"
   ]
  },
  {
   "cell_type": "code",
   "execution_count": null,
   "metadata": {},
   "outputs": [],
   "source": [
    "from src.amgraph import AMFGraph\n",
    "\n",
    "client_ref_graph = AMFGraph()\n",
    "\n",
    "for record in records:\n",
    "    \n",
    "    node_id = ('client', record['name'])\n",
    "    \n",
    "    node_attr = {(('has_sector', None), ('sector', record['group'])): {'prob': 1.0}}\n",
    "    \n",
    "    client_ref_graph.set_node(node=node_id, node_attr=node_attr)\n",
    "\n",
    "client_ref_graph.plot(dimension=3)"
   ]
  },
  {
   "cell_type": "markdown",
   "metadata": {},
   "source": [
    "### Connect to Dask distributed cache and store"
   ]
  },
  {
   "cell_type": "code",
   "execution_count": null,
   "metadata": {},
   "outputs": [],
   "source": [
    "from src.distributed_cache import DistributedCache\n",
    "import os\n",
    "from dotenv import load_dotenv\n",
    "\n",
    "load_dotenv()\n",
    "config = {'db_name': os.getenv(\"DB_NAME\"),\n",
    "              'db_username': os.getenv(\"DB_USERNAME\"),\n",
    "              'db_password': os.getenv(\"DB_PASSWORD\"),\n",
    "              'db_system': os.getenv(\"DB_SYSTEM\"),\n",
    "              'db_config_file_path': os.getenv(\"DB_CONFIG_PATH\"),\n",
    "              'db_queries_file_path': os.getenv(\"DB_QUERIES_PATH\"),\n",
    "              'scheduler_address': 'tcp://192.168.1.67:8786'}\n"
   ]
  },
  {
   "cell_type": "code",
   "execution_count": null,
   "metadata": {},
   "outputs": [],
   "source": [
    "dc = DistributedCache(config=config)\n",
    "\n",
    "dc.set_kv(store_name='HSG', key='client_referential', value=client_ref_graph)"
   ]
  },
  {
   "cell_type": "markdown",
   "metadata": {},
   "source": [
    "### Read in rainbow trades"
   ]
  },
  {
   "cell_type": "code",
   "execution_count": null,
   "metadata": {},
   "outputs": [],
   "source": [
    "file_name= '../data/rainbow_trades.json'\n",
    "with open(file_name, 'r') as fp:\n",
    "    records = json.load(fp)\n",
    "\n",
    "print('example record:', records[:1])\n",
    "print('nos records', len(records))"
   ]
  },
  {
   "cell_type": "code",
   "execution_count": null,
   "metadata": {},
   "outputs": [],
   "source": [
    "from src.pubsub import PubSub\n",
    "\n",
    "publisher = PubSub(uid='trade_dh', config=config)"
   ]
  },
  {
   "cell_type": "markdown",
   "metadata": {},
   "source": [
    "### Publish each trade record as a Trade Event"
   ]
  },
  {
   "cell_type": "code",
   "execution_count": null,
   "metadata": {},
   "outputs": [],
   "source": [
    "import pprint as pp\n",
    "\n",
    "start_trade_id = 0\n",
    "end_trade_id = 1\n",
    "\n",
    "for trade_id in range(start_trade_id, min(end_trade_id + 1, len(records))):\n",
    "    \n",
    "    record = records[trade_id]\n",
    "     \n",
    "    pp.pprint(record)\n",
    "    publisher.publish(topic='trade_ev', msg=record)\n",
    "    "
   ]
  }
 ],
 "metadata": {
  "kernelspec": {
   "display_name": "Python 3",
   "language": "python",
   "name": "python3"
  },
  "language_info": {
   "codemirror_mode": {
    "name": "ipython",
    "version": 3
   },
   "file_extension": ".py",
   "mimetype": "text/x-python",
   "name": "python",
   "nbconvert_exporter": "python",
   "pygments_lexer": "ipython3",
   "version": "3.7.7"
  }
 },
 "nbformat": 4,
 "nbformat_minor": 4
}
