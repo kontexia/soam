{
 "cells": [
  {
   "cell_type": "markdown",
   "metadata": {},
   "source": [
    "# Distributed AMFabric"
   ]
  },
  {
   "cell_type": "code",
   "execution_count": null,
   "metadata": {},
   "outputs": [],
   "source": [
    "import os\n",
    "from dotenv import load_dotenv\n",
    "\n",
    "# setup configuration\n",
    "#\n",
    "load_dotenv()\n",
    "config = {'db_name': os.getenv(\"DB_NAME\"),\n",
    "              'db_username': os.getenv(\"DB_USERNAME\"),\n",
    "              'db_password': os.getenv(\"DB_PASSWORD\"),\n",
    "              'db_system': os.getenv(\"DB_SYSTEM\"),\n",
    "              'db_config_file_path': os.getenv(\"DB_CONFIG_PATH\"),\n",
    "              'db_queries_file_path': os.getenv(\"DB_QUERIES_PATH\"),\n",
    "              'fabric_graph' : 'HSG',\n",
    "              'scheduler_address': os.getenv(\"DASK_SCHEDULER\")}"
   ]
  },
  {
   "cell_type": "markdown",
   "metadata": {},
   "source": [
    "### Instantiate Distributed AMFabric object"
   ]
  },
  {
   "cell_type": "code",
   "execution_count": null,
   "metadata": {},
   "outputs": [],
   "source": [
    "from src.distributed_amfabric import DistributedAMFabric\n",
    "\n",
    "amf = DistributedAMFabric(config=config)\n"
   ]
  },
  {
   "cell_type": "markdown",
   "metadata": {},
   "source": [
    "### Create some simple training data use an SDR"
   ]
  },
  {
   "cell_type": "code",
   "execution_count": null,
   "metadata": {},
   "outputs": [],
   "source": [
    "from src.sdr import SDR\n",
    "sdr_1 = SDR()\n",
    "sdr_1.set_item(source_node = ('rainbow_trade', '*'),\n",
    "               edge=('has_rgb', 'r'),\n",
    "               target_node=('rgb', 'r'),\n",
    "               probability=1.0,\n",
    "               numeric=125,\n",
    "               numeric_min=0,\n",
    "               numeric_max=255\n",
    "              )\n",
    "\n",
    "sdr_1.sdr\n"
   ]
  },
  {
   "cell_type": "markdown",
   "metadata": {},
   "source": [
    "### Create an area in the fabric to train"
   ]
  },
  {
   "cell_type": "code",
   "execution_count": null,
   "metadata": {},
   "outputs": [],
   "source": [
    "# the length of the short term memeory - defines number of neurons in a neuro_column\n",
    "#\n",
    "short_term_memory = 1\n",
    "\n",
    "# multiplier to determine the length of lookback (mp_threshold * short_term_memory) when looking for anomalies and motifs\n",
    "#\n",
    "mp_threshold = 6\n",
    "\n",
    "# the strategy for connecting neuro_columns\n",
    "#\n",
    "structure = 'star'\n",
    "\n",
    "# edges with probability below this threshold will be assumed to be zero and deleted\n",
    "#\n",
    "prune_threshold = 0.001\n",
    "\n",
    "# a seed to ensure we can repeat our experiments\n",
    "#\n",
    "random_seed = 221166\n",
    "\n",
    "# create a new amfabric area\n",
    "#\n",
    "amf.create_distributed_fabric(fabric_uid='test',\n",
    "                              short_term_memory=short_term_memory,\n",
    "                              mp_threshold=mp_threshold,\n",
    "                              structure=structure,\n",
    "                              prune_threshold=prune_threshold,\n",
    "                              random_seed=random_seed,\n",
    "                              restore=True)"
   ]
  },
  {
   "cell_type": "markdown",
   "metadata": {},
   "source": [
    "### Search for the neuro_column most similar to the SDRs in short term memory"
   ]
  },
  {
   "cell_type": "code",
   "execution_count": null,
   "metadata": {},
   "outputs": [],
   "source": [
    "search_por = amf.search_for_bmu(fabric_uid='test', sdr=sdr_1, ref_id=1)\n",
    "search_por"
   ]
  },
  {
   "cell_type": "code",
   "execution_count": null,
   "metadata": {},
   "outputs": [],
   "source": [
    "search_por = search_por.result()\n",
    "search_por"
   ]
  },
  {
   "cell_type": "markdown",
   "metadata": {},
   "source": [
    "### Learn the current SDRs in short term memory, using the results from the previous search"
   ]
  },
  {
   "cell_type": "code",
   "execution_count": null,
   "metadata": {},
   "outputs": [],
   "source": [
    "learn_por = amf.learn(fabric_uid='test', search_por=search_por, persist=True)\n",
    "learn_por"
   ]
  },
  {
   "cell_type": "code",
   "execution_count": null,
   "metadata": {},
   "outputs": [],
   "source": [
    "learn_por = learn_por.result()\n",
    "learn_por"
   ]
  },
  {
   "cell_type": "markdown",
   "metadata": {},
   "source": [
    "### Query the fabric - basically a search for the most similar neuro_column to the SDRs in the query"
   ]
  },
  {
   "cell_type": "code",
   "execution_count": null,
   "metadata": {},
   "outputs": [],
   "source": [
    "q_result = amf.query(fabric_uid='test', sdr=sdr_1)\n",
    "q_result"
   ]
  },
  {
   "cell_type": "code",
   "execution_count": null,
   "metadata": {},
   "outputs": [],
   "source": [
    "q_result = q_result.result()\n",
    "q_result"
   ]
  },
  {
   "cell_type": "markdown",
   "metadata": {},
   "source": [
    "### Decode the fabric"
   ]
  },
  {
   "cell_type": "code",
   "execution_count": null,
   "metadata": {},
   "outputs": [],
   "source": [
    "decode_result = amf.decode_fabric(fabric_uid='test', all_details=True,community_sdr=True)\n",
    "decode_result"
   ]
  },
  {
   "cell_type": "code",
   "execution_count": null,
   "metadata": {},
   "outputs": [],
   "source": [
    "decode_result = decode_result.result()\n",
    "decode_result"
   ]
  }
 ],
 "metadata": {
  "kernelspec": {
   "display_name": "Python 3",
   "language": "python",
   "name": "python3"
  },
  "language_info": {
   "codemirror_mode": {
    "name": "ipython",
    "version": 3
   },
   "file_extension": ".py",
   "mimetype": "text/x-python",
   "name": "python",
   "nbconvert_exporter": "python",
   "pygments_lexer": "ipython3",
   "version": "3.7.7"
  }
 },
 "nbformat": 4,
 "nbformat_minor": 4
}
